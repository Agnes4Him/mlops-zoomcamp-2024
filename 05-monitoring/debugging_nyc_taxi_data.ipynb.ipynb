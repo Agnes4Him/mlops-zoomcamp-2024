{
 "cells": [
  {
   "cell_type": "code",
   "execution_count": null,
   "id": "d7071929-d8e1-41f3-95e7-bef48a46effb",
   "metadata": {},
   "outputs": [],
   "source": [
    "import datetime\n",
    "import pandas as pd\n",
    "\n",
    "from evidently import ColumnMapping\n",
    "from evidently.report import Report\n",
    "from evidently.metric_preset import DataDriftPreset\n",
    "\n",
    "from evidently.test_suite import TestSuite\n",
    "from evidently.test_preset import DataDriftTestPreset\n",
    "\n",
    "from joblib import dump, load\n",
    "\n",
    "from sklearn.linear_model import LinearRegression\n",
    "from sklearn.metrics import mean_absolute_error, mean_absolute_percentage_error"
   ]
  },
  {
   "cell_type": "code",
   "execution_count": null,
   "id": "ad14bc34-0618-4e6e-a1be-7721ac123e78",
   "metadata": {},
   "outputs": [],
   "source": [
    "ref_data = pd.read_parquet('data/reference.parquet')"
   ]
  },
  {
   "cell_type": "code",
   "execution_count": null,
   "id": "5e05f699-1990-4872-8fce-6384996e6a4e",
   "metadata": {},
   "outputs": [],
   "source": [
    "current_data = pd.read_parquet('data/green_tripdata_2022-02.parquet')"
   ]
  },
  {
   "cell_type": "code",
   "execution_count": null,
   "id": "b878e7fa-2581-49ac-9f62-6f89bc6c2e03",
   "metadata": {},
   "outputs": [],
   "source": [
    "with open('models/lin_reg.bin', 'rb') as f_in:\n",
    "    model = load(f_in)"
   ]
  },
  {
   "cell_type": "code",
   "execution_count": null,
   "id": "bbec5304-0cc9-49b0-99c8-1463c61ad65d",
   "metadata": {},
   "outputs": [],
   "source": [
    "# data labeling\n",
    "target = \"duration_min\"\n",
    "num_features = [\"passenger_count\", \"trip_distance\", \"fare_amount\", \"total_amount\"]\n",
    "cat_features = [\"PULocationID\", \"DOLocationID\"]"
   ]
  },
  {
   "cell_type": "code",
   "execution_count": null,
   "id": "574046a3-f5eb-460c-95fc-7ace51082e6a",
   "metadata": {},
   "outputs": [],
   "source": [
    "problematic_data = current_data.loc[(current_data.lpep_pickup_datetime >= datetime.datetime(2022,2,2,0,0)) & \n",
    "                               (current_data.lpep_pickup_datetime < datetime.datetime(2022,2,3,0,0))]"
   ]
  },
  {
   "cell_type": "code",
   "execution_count": null,
   "id": "c1a66e6e-cfbc-46a7-b246-7da680ae86c5",
   "metadata": {},
   "outputs": [],
   "source": [
    "column_mapping = ColumnMapping(\n",
    "    prediction='prediction',\n",
    "    numerical_features=num_features,\n",
    "    categorical_features=cat_features,\n",
    "    target=None\n",
    ")"
   ]
  },
  {
   "cell_type": "code",
   "execution_count": null,
   "id": "97da5c39-0c8d-4ea9-93c2-e7be39a35f10",
   "metadata": {},
   "outputs": [],
   "source": [
    "problematic_data['prediction'] = model.predict(problematic_data[num_features + cat_features].fillna(0))"
   ]
  },
  {
   "cell_type": "code",
   "execution_count": null,
   "id": "11b333ab-6e3d-4a7b-8bcb-0601377961cf",
   "metadata": {},
   "outputs": [],
   "source": [
    "test_suite = TestSuite(tests = [DataDriftTestPreset()])\n",
    "test_suite.run(reference_data=ref_data, current_data=problematic_data, column_mapping=column_mapping)"
   ]
  },
  {
   "cell_type": "code",
   "execution_count": null,
   "id": "da5680f2-66b2-41d1-b360-78808f0c5306",
   "metadata": {},
   "outputs": [],
   "source": [
    "test_suite.show(mode='inline')"
   ]
  },
  {
   "cell_type": "code",
   "execution_count": null,
   "id": "5abaec0f-2df7-4c8c-aec7-8186958d7fd7",
   "metadata": {},
   "outputs": [],
   "source": [
    "report = Report(metrics = [DataDriftPreset()])\n",
    "report.run(reference_data=ref_data, current_data=problematic_data, column_mapping=column_mapping)"
   ]
  },
  {
   "cell_type": "code",
   "execution_count": null,
   "id": "0e0bb07f-cda5-4380-a424-e9053182a9b3",
   "metadata": {},
   "outputs": [],
   "source": [
    "report.show(mode='inline')"
   ]
  }
 ],
 "metadata": {
  "kernelspec": {
   "display_name": "Python 3 (ipykernel)",
   "language": "python",
   "name": "python3"
  },
  "language_info": {
   "codemirror_mode": {
    "name": "ipython",
    "version": 3
   },
   "file_extension": ".py",
   "mimetype": "text/x-python",
   "name": "python",
   "nbconvert_exporter": "python",
   "pygments_lexer": "ipython3",
   "version": "3.12.4"
  }
 },
 "nbformat": 4,
 "nbformat_minor": 5
}
